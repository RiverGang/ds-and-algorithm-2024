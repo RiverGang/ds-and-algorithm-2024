{
 "cells": [
  {
   "cell_type": "code",
   "execution_count": null,
   "metadata": {},
   "outputs": [],
   "source": [
    "# file: ds02_syntax_ipynb\n",
    "# desc: 파이썬 기초 복습 "
   ]
  },
  {
   "cell_type": "markdown",
   "metadata": {},
   "source": [
    "## 자료구조와 알고리즘\n",
    "\n",
    "- 파이썬 기초문법 복습\n",
    "\n",
    "### 1. 리스트 컨프리헨션(함축)"
   ]
  },
  {
   "cell_type": "code",
   "execution_count": 1,
   "metadata": {},
   "outputs": [
    {
     "data": {
      "text/plain": [
       "[1, 2, 3, 4, 5]"
      ]
     },
     "execution_count": 1,
     "metadata": {},
     "output_type": "execute_result"
    }
   ],
   "source": [
    "nums = []\n",
    "for i in range(1,6): # 반복문으로\n",
    "    nums.append(i)\n",
    "\n",
    "nums"
   ]
  },
  {
   "cell_type": "code",
   "execution_count": 2,
   "metadata": {},
   "outputs": [
    {
     "data": {
      "text/plain": [
       "[1, 2, 3, 4, 5]"
      ]
     },
     "execution_count": 2,
     "metadata": {},
     "output_type": "execute_result"
    }
   ],
   "source": [
    "nums = list(range(1,6)) # 클래스로 생성\n",
    "nums"
   ]
  },
  {
   "cell_type": "code",
   "execution_count": null,
   "metadata": {},
   "outputs": [],
   "source": [
    "nums = [i for i in range(1,6)] # 리스트 함축\n",
    "nums"
   ]
  },
  {
   "cell_type": "code",
   "execution_count": null,
   "metadata": {},
   "outputs": [],
   "source": [
    "nums = [i*i for i in range(1,6)] # 여러 조건의 리스트 만들 때 유용한 방식"
   ]
  },
  {
   "cell_type": "code",
   "execution_count": null,
   "metadata": {},
   "outputs": [],
   "source": [
    "nums = [i for i in range(1, 21) if i % 3 == 0] # 3의 배수만 리스트\n",
    "nums"
   ]
  },
  {
   "cell_type": "code",
   "execution_count": 3,
   "metadata": {},
   "outputs": [
    {
     "data": {
      "text/plain": [
       "[[0, 1, 2, 3], [0, 1, 2, 3], [0, 1, 2, 3]]"
      ]
     },
     "execution_count": 3,
     "metadata": {},
     "output_type": "execute_result"
    }
   ],
   "source": [
    "nums2 = [[i for i in range(4)] for j in range(3)] # [[열(안쪽 값)]행(바깥쪽 값)]\n",
    "nums2 # 2차원 리스트"
   ]
  },
  {
   "cell_type": "markdown",
   "metadata": {},
   "source": [
    "### 세트"
   ]
  },
  {
   "cell_type": "code",
   "execution_count": 4,
   "metadata": {},
   "outputs": [
    {
     "data": {
      "text/plain": [
       "{1, 2, 3}"
      ]
     },
     "execution_count": 4,
     "metadata": {},
     "output_type": "execute_result"
    }
   ],
   "source": [
    "myset = {1, 2, 3, 2, 1} # 집합은 같은 수(값) 중복을 제거\n",
    "myset"
   ]
  },
  {
   "cell_type": "markdown",
   "metadata": {},
   "source": [
    "### 로또번호 생성기"
   ]
  },
  {
   "cell_type": "code",
   "execution_count": 5,
   "metadata": {},
   "outputs": [],
   "source": [
    "import random"
   ]
  },
  {
   "cell_type": "code",
   "execution_count": 6,
   "metadata": {},
   "outputs": [],
   "source": [
    "# 전역번수 선언\n",
    "totalLotto = [] # 최종 로또번호 저장 (2차원리스트)\n",
    "lotto = [] # 한회별 로또번호 저장 (1차원리스트)\n",
    "pickNum = 0\n",
    "count = 0\n"
   ]
  },
  {
   "cell_type": "code",
   "execution_count": 9,
   "metadata": {},
   "outputs": [
    {
     "name": "stdout",
     "output_type": "stream",
     "text": [
      "로또번호 생성 시작\n",
      "로또번호 생성 완료\n"
     ]
    }
   ],
   "source": [
    "print('로또번호 생성 시작')\n",
    "totalLotto = [] #로또결과 리스트 초기화\n",
    "count = int(input('뽑을 횟수 입력 > '))\n",
    "\n",
    "for _ in range(count): # _(i 위치) 반복되는 숫자를 사용하지 않음\n",
    "    lotto = []\n",
    "    while True:\n",
    "        pickNum = random.randint(1, 45) # 1부터 45사이의 수를 저장\n",
    "        if pickNum not in lotto: # 랜덤으로 뽑은 수가 이미 있으면 패스\n",
    "            lotto.append(pickNum)\n",
    "        else:\n",
    "            continue # 반복문이 여러 개 있으면 자신이 속한 반복문만 다시 반복\n",
    "\n",
    "        if len(lotto) >= 6: # 숫자를 6개 뽑으면\n",
    "            break # 반복문이 여러개면, 자신이 속한 반복문만 빠져나감\n",
    "        \n",
    "    totalLotto.append(lotto)\n",
    "\n",
    "print('로또번호 생성 완료')"
   ]
  },
  {
   "cell_type": "code",
   "execution_count": 11,
   "metadata": {},
   "outputs": [
    {
     "name": "stdout",
     "output_type": "stream",
     "text": [
      "로또번호 > 01 21 24 29 31 40 \n",
      "로또번호 > 20 29 37 38 39 40 \n",
      "로또번호 > 01 22 24 30 32 35 \n",
      "로또번호 > 28 30 33 34 37 39 \n"
     ]
    }
   ],
   "source": [
    "for item in totalLotto:\n",
    "    item.sort()\n",
    "    print('로또번호 > ', end='')\n",
    "    for i in item:\n",
    "        print(f'{i:02d}', end=' ')\n",
    "    \n",
    "    print()"
   ]
  }
 ],
 "metadata": {
  "kernelspec": {
   "display_name": "Python 3",
   "language": "python",
   "name": "python3"
  },
  "language_info": {
   "codemirror_mode": {
    "name": "ipython",
    "version": 3
   },
   "file_extension": ".py",
   "mimetype": "text/x-python",
   "name": "python",
   "nbconvert_exporter": "python",
   "pygments_lexer": "ipython3",
   "version": "3.11.5"
  }
 },
 "nbformat": 4,
 "nbformat_minor": 2
}
