{
 "cells": [
  {
   "cell_type": "code",
   "execution_count": 152,
   "metadata": {},
   "outputs": [],
   "source": [
    "# file: ds28_sorting.ipynb\n",
    "# desc: 각 정렬알고리즘 학습 노트북"
   ]
  },
  {
   "cell_type": "markdown",
   "metadata": {},
   "source": [
    "## 자료구조와 알고리즘\n",
    "\n",
    "- 정렬\n",
    "### 선택정렬"
   ]
  },
  {
   "cell_type": "code",
   "execution_count": 153,
   "metadata": {},
   "outputs": [],
   "source": [
    "def FindMinIdx(ary):\n",
    "    minIdx = 0 # ary[0]의 값이 최소라 지정\n",
    "\n",
    "    for i in range(1, len(ary)):\n",
    "        if (ary[minIdx] > ary[i]): # ary[0]의 값이 최소가 아니다\n",
    "            minIdx = i\n",
    "    \n",
    "    return minIdx"
   ]
  },
  {
   "cell_type": "code",
   "execution_count": 154,
   "metadata": {},
   "outputs": [
    {
     "name": "stdout",
     "output_type": "stream",
     "text": [
      "최소값 인덱스 4 / 최소값 22\n"
     ]
    }
   ],
   "source": [
    "testAry = [55, 88, 99, 33, 22, 77]\n",
    "minPos =FindMinIdx(testAry)\n",
    "print(f'최소값 인덱스 {minPos} / 최소값 {testAry[minPos]}')"
   ]
  },
  {
   "cell_type": "code",
   "execution_count": 155,
   "metadata": {},
   "outputs": [],
   "source": [
    "before = [188, 162, 168, 120, 50, 150, 177, 105]\n",
    "after = []"
   ]
  },
  {
   "cell_type": "code",
   "execution_count": 156,
   "metadata": {},
   "outputs": [
    {
     "name": "stdout",
     "output_type": "stream",
     "text": [
      "정렬 전 -> [188, 162, 168, 120, 50, 150, 177, 105]\n"
     ]
    }
   ],
   "source": [
    "print(f'정렬 전 -> {before}')"
   ]
  },
  {
   "cell_type": "code",
   "execution_count": 157,
   "metadata": {},
   "outputs": [],
   "source": [
    "for _ in range(len(before)):\n",
    "    minPos = FindMinIdx(before)\n",
    "    after.append(before[minPos])\n",
    "    del before[minPos]"
   ]
  },
  {
   "cell_type": "code",
   "execution_count": 158,
   "metadata": {},
   "outputs": [
    {
     "name": "stdout",
     "output_type": "stream",
     "text": [
      "정렬 후 -> [50, 105, 120, 150, 162, 168, 177, 188]\n"
     ]
    }
   ],
   "source": [
    "print(f'정렬 후 -> {after}')"
   ]
  },
  {
   "cell_type": "markdown",
   "metadata": {},
   "source": [
    "### 개선된 선택정렬"
   ]
  },
  {
   "cell_type": "code",
   "execution_count": 159,
   "metadata": {},
   "outputs": [],
   "source": [
    "def selectionSort(ary):\n",
    "    n = len(ary)\n",
    "    for i in range(0, n-1):\n",
    "        minIdx = i\n",
    "        for k in range(i+1, n):\n",
    "            if ary[minIdx] > ary[k]:\n",
    "                minIdx = k\n",
    "        \n",
    "        tmp = ary[i] # 원래있던 (최초 0)\n",
    "        ary[i] = ary[minIdx] # minIdx에 있는 최소값을 가져옴\n",
    "        ary[minIdx] = tmp\n",
    "        \n",
    "    return ary"
   ]
  },
  {
   "cell_type": "code",
   "execution_count": 160,
   "metadata": {},
   "outputs": [],
   "source": [
    "dataAry = [188, 162, 168, 120, 50, 150, 177, 105]"
   ]
  },
  {
   "cell_type": "code",
   "execution_count": 161,
   "metadata": {},
   "outputs": [
    {
     "name": "stdout",
     "output_type": "stream",
     "text": [
      "정렬 전 -> [188, 162, 168, 120, 50, 150, 177, 105]\n",
      "정렬 후 -> [50, 105, 120, 150, 162, 168, 177, 188]\n"
     ]
    }
   ],
   "source": [
    "print(f'정렬 전 -> {dataAry}')\n",
    "selectionSort(dataAry)\n",
    "print(f'정렬 후 -> {dataAry}')"
   ]
  },
  {
   "cell_type": "markdown",
   "metadata": {},
   "source": [
    "### 삽입정렬 Insertion Sort"
   ]
  },
  {
   "cell_type": "code",
   "execution_count": 162,
   "metadata": {},
   "outputs": [],
   "source": [
    "def finInsertIdx(ary, data):\n",
    "    findIdx = -1 # 없는 위치 파이썬 -1 리스트 제일 오른쪽을 뜻하지만 -1을 데잍 ㅓ엇음\n",
    "\n",
    "    for i in range(0, len(ary)):\n",
    "        if ary[i] > data:\n",
    "            findIdx = i\n",
    "            break\n",
    "    \n",
    "    if findIdx == -1:\n",
    "        return len(ary) # 리스트 맨 마지막\n",
    "    else:\n",
    "        return findIdx\n"
   ]
  },
  {
   "cell_type": "code",
   "execution_count": 163,
   "metadata": {},
   "outputs": [
    {
     "name": "stdout",
     "output_type": "stream",
     "text": [
      "index 위치: 0\n"
     ]
    }
   ],
   "source": [
    "testAry = []\n",
    "print(f'index 위치: {finInsertIdx(testAry, 55)}')"
   ]
  },
  {
   "cell_type": "code",
   "execution_count": 164,
   "metadata": {},
   "outputs": [
    {
     "name": "stdout",
     "output_type": "stream",
     "text": [
      "index 위치 : 1\n"
     ]
    }
   ],
   "source": [
    "testAry = [33, 77, 88]\n",
    "print(f'index 위치 : {finInsertIdx(testAry, 55)}')"
   ]
  },
  {
   "cell_type": "code",
   "execution_count": 165,
   "metadata": {},
   "outputs": [
    {
     "name": "stdout",
     "output_type": "stream",
     "text": [
      "index 위치 : 4\n"
     ]
    }
   ],
   "source": [
    "testAry = [33, 55, 77, 88]\n",
    "print(f'index 위치 : {finInsertIdx(testAry, 111)}')"
   ]
  },
  {
   "cell_type": "markdown",
   "metadata": {},
   "source": [
    "#### 최종 삽입정렬"
   ]
  },
  {
   "cell_type": "code",
   "execution_count": 166,
   "metadata": {},
   "outputs": [],
   "source": [
    "def insertionSort(ary):\n",
    "    n = len(ary)\n",
    "    for end in range(1, n):\n",
    "        for cur in range(end, 0, -1):\n",
    "            if ary[cur-1] > ary[cur]:\n",
    "                tmp = ary[cur]\n",
    "                ary[cur] = ary[cur-1]\n",
    "                ary[cur-1] = tmp\n",
    "    return ary"
   ]
  },
  {
   "cell_type": "code",
   "execution_count": 167,
   "metadata": {},
   "outputs": [],
   "source": [
    "dataAry = [188, 162, 168, 120, 50, 150, 177, 105]"
   ]
  },
  {
   "cell_type": "code",
   "execution_count": 168,
   "metadata": {},
   "outputs": [
    {
     "name": "stdout",
     "output_type": "stream",
     "text": [
      "삽입정렬 전 : [188, 162, 168, 120, 50, 150, 177, 105]\n"
     ]
    }
   ],
   "source": [
    "print(f'삽입정렬 전 : {dataAry}')"
   ]
  },
  {
   "cell_type": "code",
   "execution_count": 169,
   "metadata": {},
   "outputs": [
    {
     "name": "stdout",
     "output_type": "stream",
     "text": [
      "삽입정렬 후 : [50, 105, 120, 150, 162, 168, 177, 188]\n"
     ]
    }
   ],
   "source": [
    "dataAry = insertionSort(dataAry)\n",
    "print(f'삽입정렬 후 : {dataAry}')\n"
   ]
  },
  {
   "cell_type": "markdown",
   "metadata": {},
   "source": [
    "### 버블 정렬 Bubble Sort\n",
    "\n",
    "- 시간복잡도 : 0(n^2)"
   ]
  },
  {
   "cell_type": "code",
   "execution_count": 170,
   "metadata": {},
   "outputs": [],
   "source": [
    "def bubbleSort(ary):\n",
    "    n = len(ary)\n",
    "    for end in  range(n-1, 0, -1): # 7부터 1까지 역순\n",
    "        for cur in range(0, end): # 0, 6까지 순차 \n",
    "            if ary[cur] > ary[cur+1]: # 앞의 값이 뒤의 값보다 크면 뒤로 보냄\n",
    "                tmp = ary[cur]\n",
    "                ary[cur] = ary[cur+1]\n",
    "                ary[cur+1] = tmp\n",
    "    return ary\n"
   ]
  },
  {
   "cell_type": "code",
   "execution_count": 171,
   "metadata": {},
   "outputs": [],
   "source": [
    "dataAry = [188, 162, 168, 120, 50, 150, 177, 105]"
   ]
  },
  {
   "cell_type": "code",
   "execution_count": 172,
   "metadata": {},
   "outputs": [
    {
     "name": "stdout",
     "output_type": "stream",
     "text": [
      "버블정렬 전 -> [188, 162, 168, 120, 50, 150, 177, 105]\n"
     ]
    }
   ],
   "source": [
    "print(f'버블정렬 전 -> {dataAry}')"
   ]
  },
  {
   "cell_type": "code",
   "execution_count": 173,
   "metadata": {},
   "outputs": [
    {
     "name": "stdout",
     "output_type": "stream",
     "text": [
      "버블정렬 후 -> [50, 105, 120, 150, 162, 168, 177, 188]\n"
     ]
    }
   ],
   "source": [
    "dataAry = bubbleSort(dataAry)\n",
    "print(f'버블정렬 후 -> {dataAry}')"
   ]
  },
  {
   "cell_type": "markdown",
   "metadata": {},
   "source": [
    "### 퀵 정렬 Quick Sort\n",
    "\n",
    "- 기준값(중앙값) 기준으로 왼쪽, 오른쪽 그룹분리한 뒤 다시 정렬하는 방법\n",
    "- 시간복잡도 : best nomal 0(nlog2n), Worsh 0(n^2)"
   ]
  },
  {
   "cell_type": "code",
   "execution_count": 174,
   "metadata": {},
   "outputs": [],
   "source": [
    "def quickSort(ary):\n",
    "    n = len(ary)\n",
    "    if n <= 1: return ary # 정렬할 리시트가 1개이면 정렬 필요 엇음\n",
    "\n",
    "    pivot = ary[n // 2] # 기준값(중앙값) 지정\n",
    "    leftAry, rightAry = [], []\n",
    "\n",
    "    for data in ary:\n",
    "        if data < pivot:\n",
    "            leftAry.append(data)\n",
    "        elif data == pivot:\n",
    "            pass\n",
    "        else:\n",
    "            rightAry.append(data)\n",
    "\n",
    "    return quickSort(leftAry) + [pivot] + quickSort(rightAry) # 재귀호출"
   ]
  },
  {
   "cell_type": "code",
   "execution_count": 175,
   "metadata": {},
   "outputs": [],
   "source": [
    "dataAry = [188, 150, 168, 162, 105, 120, 177, 50]"
   ]
  },
  {
   "cell_type": "code",
   "execution_count": 176,
   "metadata": {},
   "outputs": [
    {
     "name": "stdout",
     "output_type": "stream",
     "text": [
      "퀵 정렬 전 : [188, 150, 168, 162, 105, 120, 177, 50]\n"
     ]
    }
   ],
   "source": [
    "print(f'퀵 정렬 전 : {dataAry}')"
   ]
  },
  {
   "cell_type": "code",
   "execution_count": 177,
   "metadata": {},
   "outputs": [
    {
     "name": "stdout",
     "output_type": "stream",
     "text": [
      "퀵 정렬 후 : [50, 105, 120, 150, 162, 168, 177, 188]\n"
     ]
    }
   ],
   "source": [
    "dataAry = quickSort(dataAry)\n",
    "print(f'퀵 정렬 후 : {dataAry}')"
   ]
  },
  {
   "cell_type": "code",
   "execution_count": 178,
   "metadata": {},
   "outputs": [],
   "source": [
    "def qSort(arr, start, end):\n",
    "    if end <= start: return\n",
    "\n",
    "    low = start\n",
    "    high = end\n",
    "    pivot = arr[(low+high) // 2]\n",
    "    while low <= high:\n",
    "        while arr[low] < pivot:\n",
    "            low += 1\n",
    "        while arr[high] > pivot:\n",
    "            high -= 1\n",
    "\n",
    "        if low <= high:\n",
    "            tmp = arr[low]\n",
    "            arr[low] = arr[high]\n",
    "            arr[high] = tmp\n",
    "            low += 1\n",
    "            high -= 1\n",
    "    \n",
    "    mid = low\n",
    "    qSort(arr, start, mid-1)\n",
    "    qSort(arr, mid, end)"
   ]
  },
  {
   "cell_type": "code",
   "execution_count": 179,
   "metadata": {},
   "outputs": [],
   "source": [
    "def quickSort2(ary):\n",
    "    qSort(ary, 0, len(ary)-1)"
   ]
  },
  {
   "cell_type": "code",
   "execution_count": 180,
   "metadata": {},
   "outputs": [],
   "source": [
    "dataAry = [188, 150, 168, 162, 105, 120, 177, 50]"
   ]
  },
  {
   "cell_type": "code",
   "execution_count": 182,
   "metadata": {},
   "outputs": [
    {
     "name": "stdout",
     "output_type": "stream",
     "text": [
      "퀵 정렬 후: [50, 105, 120, 150, 162, 168, 177, 188]\n"
     ]
    }
   ],
   "source": [
    "quickSort2(dataAry)\n",
    "print(f'퀵 정렬 후: {dataAry}')"
   ]
  },
  {
   "cell_type": "code",
   "execution_count": null,
   "metadata": {},
   "outputs": [],
   "source": []
  }
 ],
 "metadata": {
  "kernelspec": {
   "display_name": "Python 3",
   "language": "python",
   "name": "python3"
  },
  "language_info": {
   "codemirror_mode": {
    "name": "ipython",
    "version": 3
   },
   "file_extension": ".py",
   "mimetype": "text/x-python",
   "name": "python",
   "nbconvert_exporter": "python",
   "pygments_lexer": "ipython3",
   "version": "3.11.5"
  }
 },
 "nbformat": 4,
 "nbformat_minor": 2
}
